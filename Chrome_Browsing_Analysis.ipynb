{
 "cells": [
  {
   "cell_type": "code",
   "execution_count": 2,
   "id": "ea096574",
   "metadata": {},
   "outputs": [],
   "source": [
    "import pandas as pd\n",
    "import numpy as np\n",
    "import json\n",
    "\n",
    "with open('/home/pysolver33/Desktop/Takeout/Chrome/BrowserHistory.json') as json_file:\n",
    "    data = json.load(json_file)\n"
   ]
  },
  {
   "cell_type": "code",
   "execution_count": 5,
   "id": "5b8a9cf7",
   "metadata": {},
   "outputs": [
    {
     "data": {
      "text/html": [
       "<div>\n",
       "<style scoped>\n",
       "    .dataframe tbody tr th:only-of-type {\n",
       "        vertical-align: middle;\n",
       "    }\n",
       "\n",
       "    .dataframe tbody tr th {\n",
       "        vertical-align: top;\n",
       "    }\n",
       "\n",
       "    .dataframe thead th {\n",
       "        text-align: right;\n",
       "    }\n",
       "</style>\n",
       "<table border=\"1\" class=\"dataframe\">\n",
       "  <thead>\n",
       "    <tr style=\"text-align: right;\">\n",
       "      <th></th>\n",
       "      <th>favicon_url</th>\n",
       "      <th>page_transition</th>\n",
       "      <th>title</th>\n",
       "      <th>url</th>\n",
       "      <th>client_id</th>\n",
       "      <th>time_usec</th>\n",
       "    </tr>\n",
       "  </thead>\n",
       "  <tbody>\n",
       "    <tr>\n",
       "      <th>0</th>\n",
       "      <td>https://www.gstatic.com/devrel-devsite/prod/va...</td>\n",
       "      <td>RELOAD</td>\n",
       "      <td>Developer community programs | Students</td>\n",
       "      <td>https://developers.google.com/community/dsc</td>\n",
       "      <td>P9JUWxYExQ7IRJTpauqdaw==</td>\n",
       "      <td>1624891083688808</td>\n",
       "    </tr>\n",
       "    <tr>\n",
       "      <th>1</th>\n",
       "      <td>NaN</td>\n",
       "      <td>LINK</td>\n",
       "      <td>127.0.0.1</td>\n",
       "      <td>http://127.0.0.1:8000/</td>\n",
       "      <td>P9JUWxYExQ7IRJTpauqdaw==</td>\n",
       "      <td>1624891067298422</td>\n",
       "    </tr>\n",
       "    <tr>\n",
       "      <th>2</th>\n",
       "      <td>https://www.google.com/favicon.ico</td>\n",
       "      <td>GENERATED</td>\n",
       "      <td>localhost - Google Search</td>\n",
       "      <td>https://www.google.com/search?q=localhost&amp;oq=l...</td>\n",
       "      <td>P9JUWxYExQ7IRJTpauqdaw==</td>\n",
       "      <td>1624891063579369</td>\n",
       "    </tr>\n",
       "    <tr>\n",
       "      <th>3</th>\n",
       "      <td>https://www.gstatic.com/devrel-devsite/prod/va...</td>\n",
       "      <td>RELOAD</td>\n",
       "      <td>Developer community programs | Students</td>\n",
       "      <td>https://developers.google.com/community/dsc</td>\n",
       "      <td>P9JUWxYExQ7IRJTpauqdaw==</td>\n",
       "      <td>1624891062684453</td>\n",
       "    </tr>\n",
       "    <tr>\n",
       "      <th>4</th>\n",
       "      <td>https://www.google.com/images/branding/product...</td>\n",
       "      <td>RELOAD</td>\n",
       "      <td>Professional Certificate Training Programs - G...</td>\n",
       "      <td>https://grow.google/certificates/#?modal_activ...</td>\n",
       "      <td>P9JUWxYExQ7IRJTpauqdaw==</td>\n",
       "      <td>1624891062645722</td>\n",
       "    </tr>\n",
       "  </tbody>\n",
       "</table>\n",
       "</div>"
      ],
      "text/plain": [
       "                                         favicon_url page_transition  \\\n",
       "0  https://www.gstatic.com/devrel-devsite/prod/va...          RELOAD   \n",
       "1                                                NaN            LINK   \n",
       "2                 https://www.google.com/favicon.ico       GENERATED   \n",
       "3  https://www.gstatic.com/devrel-devsite/prod/va...          RELOAD   \n",
       "4  https://www.google.com/images/branding/product...          RELOAD   \n",
       "\n",
       "                                               title  \\\n",
       "0            Developer community programs | Students   \n",
       "1                                          127.0.0.1   \n",
       "2                          localhost - Google Search   \n",
       "3            Developer community programs | Students   \n",
       "4  Professional Certificate Training Programs - G...   \n",
       "\n",
       "                                                 url  \\\n",
       "0        https://developers.google.com/community/dsc   \n",
       "1                             http://127.0.0.1:8000/   \n",
       "2  https://www.google.com/search?q=localhost&oq=l...   \n",
       "3        https://developers.google.com/community/dsc   \n",
       "4  https://grow.google/certificates/#?modal_activ...   \n",
       "\n",
       "                  client_id         time_usec  \n",
       "0  P9JUWxYExQ7IRJTpauqdaw==  1624891083688808  \n",
       "1  P9JUWxYExQ7IRJTpauqdaw==  1624891067298422  \n",
       "2  P9JUWxYExQ7IRJTpauqdaw==  1624891063579369  \n",
       "3  P9JUWxYExQ7IRJTpauqdaw==  1624891062684453  \n",
       "4  P9JUWxYExQ7IRJTpauqdaw==  1624891062645722  "
      ]
     },
     "execution_count": 5,
     "metadata": {},
     "output_type": "execute_result"
    }
   ],
   "source": [
    "df = pd.DataFrame(data['Browser History'])\n",
    "df.head()\n"
   ]
  },
  {
   "cell_type": "code",
   "execution_count": 8,
   "id": "4a8ad8d7",
   "metadata": {},
   "outputs": [
    {
     "data": {
      "text/plain": [
       "array(['Developer community programs | Students', '127.0.0.1',\n",
       "       'localhost - Google Search', ...,\n",
       "       'argparse — Parser for command-line options, arguments and sub-commands — Python 3.8.3 documentation',\n",
       "       'argparse nargs sample - Google Search',\n",
       "       'argparse nargs - Google Search'], dtype=object)"
      ]
     },
     "execution_count": 8,
     "metadata": {},
     "output_type": "execute_result"
    }
   ],
   "source": [
    "df.title.unique()\n"
   ]
  },
  {
   "cell_type": "code",
   "execution_count": 37,
   "id": "2d353d56",
   "metadata": {},
   "outputs": [
    {
     "name": "stderr",
     "output_type": "stream",
     "text": [
      "<ipython-input-37-03496c8720ba>:1: FutureWarning: The default value of regex will change from True to False in a future version.\n",
      "  titles = df.title.str.replace('[^a-zA-Z]', ' ')\n"
     ]
    },
    {
     "data": {
      "text/plain": [
       "google           3490\n",
       "search           2314\n",
       "to               1573\n",
       "opencv           1502\n",
       "new              1495\n",
       "youtube          1489\n",
       "tab              1408\n",
       "the              1312\n",
       "and              1296\n",
       "in               1291\n",
       "c                1161\n",
       "a                1157\n",
       "python           1154\n",
       "of               1041\n",
       "stack             887\n",
       "overflow          853\n",
       "for               833\n",
       "with              730\n",
       "gmail             676\n",
       "how               617\n",
       "nvidia            616\n",
       "jetson            614\n",
       "la                581\n",
       "hitomi            581\n",
       "ubuntu            568\n",
       "camera            533\n",
       "x                 525\n",
       "no                518\n",
       "s                 511\n",
       "com               507\n",
       "tony              499\n",
       "vision            494\n",
       "colaboratory      492\n",
       "computer          479\n",
       "ipynb             473\n",
       "i                 460\n",
       "developer         447\n",
       "image             432\n",
       "mapping           399\n",
       "players           398\n",
       "onto              398\n",
       "minmap            398\n",
       "numpy             392\n",
       "your              389\n",
       "on                387\n",
       "docker            378\n",
       "wiki              371\n",
       "documentation     363\n",
       "at                362\n",
       "line              360\n",
       "dtype: int64"
      ]
     },
     "execution_count": 37,
     "metadata": {},
     "output_type": "execute_result"
    }
   ],
   "source": [
    "titles = df.title.str.replace('[^a-zA-Z]', ' ')\n",
    "pd.Series(' '.join(titles).lower().split()).value_counts()[:50]"
   ]
  },
  {
   "cell_type": "code",
   "execution_count": 22,
   "id": "95b1656e",
   "metadata": {},
   "outputs": [
    {
     "name": "stderr",
     "output_type": "stream",
     "text": [
      "[nltk_data] Downloading package stopwords to\n",
      "[nltk_data]     /home/pysolver33/nltk_data...\n"
     ]
    },
    {
     "name": "stdout",
     "output_type": "stream",
     "text": [
      "['i', 'me', 'my', 'myself', 'we', 'our', 'ours', 'ourselves', 'you', \"you're\", \"you've\", \"you'll\", \"you'd\", 'your', 'yours', 'yourself', 'yourselves', 'he', 'him', 'his', 'himself', 'she', \"she's\", 'her', 'hers', 'herself', 'it', \"it's\", 'its', 'itself', 'they', 'them', 'their', 'theirs', 'themselves', 'what', 'which', 'who', 'whom', 'this', 'that', \"that'll\", 'these', 'those', 'am', 'is', 'are', 'was', 'were', 'be', 'been', 'being', 'have', 'has', 'had', 'having', 'do', 'does', 'did', 'doing', 'a', 'an', 'the', 'and', 'but', 'if', 'or', 'because', 'as', 'until', 'while', 'of', 'at', 'by', 'for', 'with', 'about', 'against', 'between', 'into', 'through', 'during', 'before', 'after', 'above', 'below', 'to', 'from', 'up', 'down', 'in', 'out', 'on', 'off', 'over', 'under', 'again', 'further', 'then', 'once', 'here', 'there', 'when', 'where', 'why', 'how', 'all', 'any', 'both', 'each', 'few', 'more', 'most', 'other', 'some', 'such', 'no', 'nor', 'not', 'only', 'own', 'same', 'so', 'than', 'too', 'very', 's', 't', 'can', 'will', 'just', 'don', \"don't\", 'should', \"should've\", 'now', 'd', 'll', 'm', 'o', 're', 've', 'y', 'ain', 'aren', \"aren't\", 'couldn', \"couldn't\", 'didn', \"didn't\", 'doesn', \"doesn't\", 'hadn', \"hadn't\", 'hasn', \"hasn't\", 'haven', \"haven't\", 'isn', \"isn't\", 'ma', 'mightn', \"mightn't\", 'mustn', \"mustn't\", 'needn', \"needn't\", 'shan', \"shan't\", 'shouldn', \"shouldn't\", 'wasn', \"wasn't\", 'weren', \"weren't\", 'won', \"won't\", 'wouldn', \"wouldn't\"]\n"
     ]
    },
    {
     "name": "stderr",
     "output_type": "stream",
     "text": [
      "[nltk_data]   Unzipping corpora/stopwords.zip.\n"
     ]
    }
   ],
   "source": [
    "import nltk\n",
    "nltk.download('stopwords')\n",
    "from nltk.corpus import stopwords\n",
    "print(stopwords.words('english'))"
   ]
  },
  {
   "cell_type": "code",
   "execution_count": 38,
   "id": "ac588e1e",
   "metadata": {},
   "outputs": [],
   "source": [
    "titles = titles.apply(lambda x: \" \".join([item for item in x.split() if item not in stopwords.words('english')]))"
   ]
  },
  {
   "cell_type": "code",
   "execution_count": 39,
   "id": "61ddc013",
   "metadata": {},
   "outputs": [
    {
     "data": {
      "text/plain": [
       "0                    Developer community programs Students\n",
       "1                                                         \n",
       "2                                  localhost Google Search\n",
       "3                    Developer community programs Students\n",
       "4        Professional Certificate Training Programs Gro...\n",
       "                               ...                        \n",
       "18522                 argparse nargs example Google Search\n",
       "18523                  argparse nargs sample Google Search\n",
       "18524                         argparse nargs Google Search\n",
       "18525                                              New Tab\n",
       "18526    What getOptimalNewCameraMatrix function OpenCV...\n",
       "Name: title, Length: 18527, dtype: object"
      ]
     },
     "execution_count": 39,
     "metadata": {},
     "output_type": "execute_result"
    }
   ],
   "source": [
    "titles"
   ]
  },
  {
   "cell_type": "code",
   "execution_count": 41,
   "id": "e1396822",
   "metadata": {},
   "outputs": [
    {
     "data": {
      "text/plain": [
       "google           3490\n",
       "search           2314\n",
       "opencv           1502\n",
       "new              1495\n",
       "youtube          1489\n",
       "tab              1408\n",
       "c                1161\n",
       "python           1154\n",
       "stack             887\n",
       "overflow          853\n",
       "gmail             676\n",
       "nvidia            616\n",
       "jetson            614\n",
       "hitomi            581\n",
       "la                581\n",
       "ubuntu            568\n",
       "how               553\n",
       "camera            533\n",
       "the               527\n",
       "x                 525\n",
       "com               507\n",
       "tony              499\n",
       "vision            494\n",
       "colaboratory      492\n",
       "computer          479\n",
       "ipynb             473\n",
       "developer         447\n",
       "i                 441\n",
       "image             432\n",
       "mapping           399\n",
       "players           398\n",
       "minmap            398\n",
       "onto              398\n",
       "numpy             392\n",
       "docker            378\n",
       "wiki              371\n",
       "documentation     363\n",
       "line              360\n",
       "drive             348\n",
       "wacom             327\n",
       "video             326\n",
       "openmv            321\n",
       "nano              316\n",
       "stitching         309\n",
       "pysolver          309\n",
       "using             308\n",
       "your              305\n",
       "array             302\n",
       "system            294\n",
       "home              292\n",
       "dtype: int64"
      ]
     },
     "execution_count": 41,
     "metadata": {},
     "output_type": "execute_result"
    }
   ],
   "source": [
    "pd.Series(' '.join(titles).lower().split()).value_counts()[:50]"
   ]
  },
  {
   "cell_type": "code",
   "execution_count": null,
   "id": "f9949b87",
   "metadata": {},
   "outputs": [],
   "source": []
  }
 ],
 "metadata": {
  "kernelspec": {
   "display_name": "Python 3",
   "language": "python",
   "name": "python3"
  },
  "language_info": {
   "codemirror_mode": {
    "name": "ipython",
    "version": 3
   },
   "file_extension": ".py",
   "mimetype": "text/x-python",
   "name": "python",
   "nbconvert_exporter": "python",
   "pygments_lexer": "ipython3",
   "version": "3.9.5"
  }
 },
 "nbformat": 4,
 "nbformat_minor": 5
}
